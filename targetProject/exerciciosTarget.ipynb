{
 "cells": [
  {
   "cell_type": "markdown",
   "id": "0b8c722c",
   "metadata": {},
   "source": [
    "#### 2) Dado a sequência de Fibonacci, onde se inicia por 0 e 1 e o próximo valor sempre será a soma dos 2 valores anteriores (exemplo: 0, 1, 1, 2, 3, 5, 8, 13, 21, 34...), escreva um programa na linguagem que desejar onde, informado um número, ele calcule a sequência de Fibonacci e retorne uma mensagem avisando se o número informado pertence ou não a sequência.\n",
    "\n",
    "###### IMPORTANTE:\n",
    "###### Esse número pode ser informado através de qualquer entrada de sua preferência ou pode ser previamente definido no código;\n",
    "\n"
   ]
  },
  {
   "cell_type": "code",
   "execution_count": 1,
   "id": "9f7ed038",
   "metadata": {},
   "outputs": [
    {
     "name": "stdout",
     "output_type": "stream",
     "text": [
      "Informe o número que deseja saber se pertence a sequência de Fibonacci: 64\n",
      "Esse número não pertence à sequência de Fibonacci :(\n"
     ]
    }
   ],
   "source": [
    "def Fibonacci(indice):\n",
    "    a = 0\n",
    "    b = 1\n",
    "    fibonacci = [a, b]\n",
    "    while indice > max(fibonacci):\n",
    "        a += b\n",
    "        b += a\n",
    "        fibonacci += [a, b]\n",
    "    return fibonacci\n",
    "\n",
    "\n",
    "indice = int(input('Informe o número que deseja saber se pertence a sequência de Fibonacci: '))\n",
    "\n",
    "fibonacci = Fibonacci(indice)\n",
    "\n",
    "if indice in fibonacci:\n",
    "    print('Sim! Esse número pertence à sequência de Fibonacci!')\n",
    "else:\n",
    "    print('Esse número não pertence à sequência de Fibonacci :(')\n"
   ]
  },
  {
   "cell_type": "markdown",
   "id": "127295f7",
   "metadata": {},
   "source": [
    "#### 3) Dado um vetor que guarda o valor de faturamento diário de uma distribuidora, faça um programa, na linguagem que desejar, que calcule e retorne:\n",
    "##### • O menor valor de faturamento ocorrido em um dia do mês;\n",
    "##### • O maior valor de faturamento ocorrido em um dia do mês;\n",
    "##### • Número de dias no mês em que o valor de faturamento diário foi superior à média mensal.\n",
    "\n",
    "#### IMPORTANTE:\n",
    "##### a) Usar o json ou xml disponível como fonte dos dados do faturamento mensal;\n",
    "##### b) Podem existir dias sem faturamento, como nos finais de semana e feriados. Estes dias devem ser ignorados no cálculo da média;"
   ]
  },
  {
   "cell_type": "code",
   "execution_count": 2,
   "id": "a4e246e2",
   "metadata": {},
   "outputs": [],
   "source": [
    "import json"
   ]
  },
  {
   "cell_type": "code",
   "execution_count": 3,
   "id": "9c026a0e",
   "metadata": {},
   "outputs": [],
   "source": [
    "with open(\"dados.json\", encoding='utf-8') as meuJson:\n",
    "    dados = json.load(meuJson)"
   ]
  },
  {
   "cell_type": "code",
   "execution_count": 4,
   "id": "46d11691",
   "metadata": {},
   "outputs": [
    {
     "name": "stdout",
     "output_type": "stream",
     "text": [
      "============================== \n",
      "\n",
      "O menor valor de faturamento do mês foi de R$373.78 no dia 14\n",
      "\n",
      "============================== \n",
      "\n",
      "O maior valor de faturamento do mês foi de R$48924.24 no dia 16\n",
      "\n",
      "============================== \n",
      "\n",
      "O valor médio do faturamento do mês foi de R$20865.37\n",
      "\n",
      "O total de 10 dias ficaram acima do valor médio faturado.\n",
      "\n",
      "==============================\n",
      "\n",
      "\n",
      "\n",
      "\n",
      " OBS.: Foram ignorados os fins de semana e feriados para os cálculos dessa análise.\n"
     ]
    }
   ],
   "source": [
    "menorValor = 0\n",
    "maiorValor = 0\n",
    "soma = 0\n",
    "diasValidos = 0\n",
    "diasAcima = 0\n",
    "\n",
    "diaMenor = ''\n",
    "diaMaior = ''\n",
    "\n",
    "\n",
    "for o in dados:\n",
    "    if o['valor'] != 0:\n",
    "        soma += o['valor']\n",
    "        diasValidos += 1\n",
    "media = soma/diasValidos\n",
    "for i in dados:\n",
    "    if i['valor'] != 0:\n",
    "        if media < i['valor']:\n",
    "            diasAcima += 1\n",
    "        if menorValor == 0:\n",
    "            menorValor = i['valor']\n",
    "        if i['valor'] < menorValor and i['valor'] != 0:\n",
    "            menorValor = i['valor']\n",
    "            diaMenor = i['dia']\n",
    "        elif i['valor'] > maiorValor:\n",
    "            maiorValor = i['valor']\n",
    "            diaMaior = i['dia']\n",
    "\n",
    "print('='*30, '\\n')\n",
    "\n",
    "print(f'O menor valor de faturamento do mês foi de R${round(menorValor, 2)} no dia {diaMenor}')\n",
    "\n",
    "print('\\n'+'='*30, '\\n')\n",
    "\n",
    "print(f'O maior valor de faturamento do mês foi de R${round(maiorValor, 2)} no dia {diaMaior}')\n",
    "\n",
    "print('\\n'+'='*30, '\\n')\n",
    "\n",
    "print(f'O valor médio do faturamento do mês foi de R${round(media, 2)}\\n')\n",
    "print(f'O total de {diasAcima} dias ficaram acima do valor médio faturado.')\n",
    "\n",
    "print('\\n'+'='*30)\n",
    "print('\\n\\n\\n\\n OBS.: Foram ignorados os fins de semana e feriados para os cálculos dessa análise.')"
   ]
  },
  {
   "cell_type": "markdown",
   "id": "6eeafe23",
   "metadata": {},
   "source": [
    "### 4) Dado o valor de faturamento mensal de uma distribuidora, detalhado por estado:\n",
    "# \n",
    "\n",
    "| Estado   |  Faturamento|\n",
    "|:---------|------------:|\n",
    "|SP        |R\\$ 67.836,43|\n",
    "|RJ        |R\\$  6.678,66|\n",
    "|MG        |R\\$ 29.229,88|\n",
    "|ES        |R\\$ 27.165,48|\n",
    "|Outros    |R\\$ 19.849,53|\n",
    "\n",
    "# \n",
    "##### Escreva um programa na linguagem que desejar onde calcule o percentual de representação que cada estado teve dentro do  valor total mensal da distribuidora."
   ]
  },
  {
   "cell_type": "code",
   "execution_count": 5,
   "id": "b707e69a",
   "metadata": {},
   "outputs": [],
   "source": [
    "import matplotlib.pyplot as plt"
   ]
  },
  {
   "cell_type": "code",
   "execution_count": 6,
   "id": "fa10a03d",
   "metadata": {},
   "outputs": [
    {
     "data": {
      "image/png": "[encoded data removed]",
      "text/plain": [
       "<Figure size 640x480 with 1 Axes>"
      ]
     },
     "metadata": {},
     "output_type": "display_data"
    },
    {
     "name": "stdout",
     "output_type": "stream",
     "text": [
      "De acordo com o gráfico: \n",
      "\n",
      "    O estado de SP faturou 45.0% do total mensal;    O estado de RJ faturou 4.43% do total mensal;\n",
      "\n",
      "    O estado de MG faturou 19.39% do total mensal;    O estado de ES faturou 18.02% do total mensal;\n",
      "\n",
      "    Os outros estados faturaram 13.17%.\n"
     ]
    }
   ],
   "source": [
    "soma = 0\n",
    "estados = []\n",
    "valores = []\n",
    "listaFaturamento = [{'Estado': 'SP', 'Valor': 67836.43}, \n",
    "                    {'Estado': 'RJ', 'Valor': 6678.66}, \n",
    "                    {'Estado': 'MG', 'Valor': 29229.88}, \n",
    "                    {'Estado': 'ES', 'Valor': 27165.48}, \n",
    "                    {'Estado': 'Outros', 'Valor': 19849.53}]\n",
    "for i in listaFaturamento:\n",
    "    soma += i['Valor']\n",
    "    estados += [i['Estado']]\n",
    "    \n",
    "    \n",
    "for i in listaFaturamento:\n",
    "    i['Valor'] = round((i['Valor']/soma)*100,2)\n",
    "    valores += [i['Valor']]\n",
    "\n",
    "plt.plot(estados, valores, 'k:')\n",
    "plt.plot(estados, valores, 'go')\n",
    "plt.show()\n",
    "\n",
    "print('De acordo com o gráfico: \\n')\n",
    "for i in range(0, len(estados)):\n",
    "    if i < len(estados)-1:\n",
    "        print(f'    O estado de {estados[i]} faturou {valores[i]}% do total mensal;',end='')\n",
    "        if i % 2 == 1:\n",
    "            print('\\n')\n",
    "    else:\n",
    "        print(f'    Os outros estados faturaram {valores[i]}%.')"
   ]
  },
  {
   "cell_type": "markdown",
   "id": "8f55ef2a",
   "metadata": {},
   "source": [
    "### 5) Escreva um programa que inverta os caracteres de um string.\n",
    "\n",
    "#### IMPORTANTE:\n",
    "##### a) Essa string pode ser informada através de qualquer entrada de sua preferência ou pode ser previamente definida no código;\n",
    "##### b) Evite usar funções prontas, como, por exemplo, reverse;\n"
   ]
  },
  {
   "cell_type": "code",
   "execution_count": 7,
   "id": "d857fc4b",
   "metadata": {},
   "outputs": [
    {
     "name": "stdout",
     "output_type": "stream",
     "text": [
      "Digite uma frase aleatória: \n",
      "Assim ficaria essa frase ao invertida: \"\"\n"
     ]
    }
   ],
   "source": [
    "string = str(input('Digite uma frase aleatória: '))\n",
    "stringInvertida = string[::-1]\n",
    "print(f'Assim ficaria essa frase ao invertida: \"{stringInvertida}\"')"
   ]
  },
  {
   "cell_type": "code",
   "execution_count": 8,
   "id": "1e82ed96",
   "metadata": {},
   "outputs": [
    {
     "name": "stdout",
     "output_type": "stream",
     "text": [
      "Digite uma frase aleatória: \n",
      "Assim ficaria essa frase ao invertida: \"\"\n"
     ]
    }
   ],
   "source": [
    "string1 = str(input('Digite uma frase aleatória: '))\n",
    "\n",
    "string2 = ''\n",
    "\n",
    "last = len(string1)\n",
    "\n",
    "for num in range(len(string1), 0, -1):\n",
    "    string2 += string1[num-1]\n",
    "print(f'Assim ficaria essa frase ao invertida: \"{string2}\"')"
   ]
  },
  {
   "cell_type": "markdown",
   "id": "d667e86c",
   "metadata": {},
   "source": [
    "###### Referências:\n",
    "[Como usar um arquivo json no Python](https://diegomariano.com/lendo-json-com-python/)\n",
    "\n",
    "[Como usar gráficos no Python](https://www.dtidigital.com.br/blog/como-gerar-graficos-em-python/)"
   ]
  }
 ],
 "metadata": {
  "kernelspec": {
   "display_name": "Python 3 (ipykernel)",
   "language": "python",
   "name": "python3"
  },
  "language_info": {
   "codemirror_mode": {
    "name": "ipython",
    "version": 3
   },
   "file_extension": ".py",
   "mimetype": "text/x-python",
   "name": "python",
   "nbconvert_exporter": "python",
   "pygments_lexer": "ipython3",
   "version": "3.9.13"
  }
 },
 "nbformat": 4,
 "nbformat_minor": 5
}
